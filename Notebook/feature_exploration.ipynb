{
 "cells": [
  {
   "cell_type": "code",
   "execution_count": null,
   "metadata": {
    "vscode": {
     "languageId": "plaintext"
    }
   },
   "outputs": [],
   "source": [
    "# Import necessary libraries\n",
    "import pandas as pd\n",
    "import matplotlib.pyplot as plt\n",
    "import seaborn as sns\n",
    "import os\n",
    "\n",
    "# Set paths for feature data\n",
    "features_path = '../Data/Features/'  # Path to your extracted features directory\n",
    "\n",
    "# List the files in the Features directory\n",
    "features_files = os.listdir(features_path)\n",
    "print(\"Available Feature Files:\", features_files)\n",
    "\n",
    "# Load a sample feature data file (adjust the file name if needed)\n",
    "feature_data = pd.read_csv(os.path.join(features_path, features_files[0]))\n",
    "\n",
    "# Display the first few rows\n",
    "print(feature_data.head())\n",
    "\n",
    "# Basic statistics of the features\n",
    "print(feature_data.describe())\n",
    "\n",
    "# Visualizing the distribution of features\n",
    "sns.pairplot(feature_data)\n",
    "plt.show()\n",
    "\n",
    "# Heatmap to show correlations between features\n",
    "sns.heatmap(feature_data.corr(), annot=True, cmap='coolwarm')\n",
    "plt.show()\n",
    "\n",
    "# Explore the distribution of a particular feature (example)\n",
    "feature_name = 'example_feature'  # Replace with actual feature name from your data\n",
    "sns.histplot(feature_data[feature_name])\n",
    "plt.title(f\"Distribution of {feature_name}\")\n",
    "plt.show()\n"
   ]
  }
 ],
 "metadata": {
  "language_info": {
   "name": "python"
  }
 },
 "nbformat": 4,
 "nbformat_minor": 2
}
