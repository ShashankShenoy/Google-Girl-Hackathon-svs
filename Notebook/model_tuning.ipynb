{
 "cells": [
  {
   "cell_type": "code",
   "execution_count": null,
   "metadata": {
    "vscode": {
     "languageId": "plaintext"
    }
   },
   "outputs": [],
   "source": [
    "# Import necessary libraries\n",
    "import pandas as pd\n",
    "import xgboost as xgb\n",
    "from sklearn.model_selection import train_test_split, GridSearchCV\n",
    "from sklearn.metrics import mean_squared_error\n",
    "import os\n",
    "\n",
    "# Set paths for feature data and labels\n",
    "features_path = '../Data/Features/'  # Path to the extracted features directory\n",
    "features_files = os.listdir(features_path)\n",
    "\n",
    "# Load the features and labels data (adjust the file names accordingly)\n",
    "feature_data = pd.read_csv(os.path.join(features_path, features_files[0]))  # Adjust if necessary\n",
    "labels_data = pd.read_csv(os.path.join(features_path, 'labels.csv'))  # Adjust this if your labels file is different\n",
    "\n",
    "# Split the data into features (X) and labels (y)\n",
    "X = feature_data\n",
    "y = labels_data['timing']  # Adjust column name for the timing or target label\n",
    "\n",
    "# Split the data into training and testing sets\n",
    "X_train, X_test, y_train, y_test = train_test_split(X, y, test_size=0.2, random_state=42)\n",
    "\n",
    "# Define the model\n",
    "model = xgb.XGBRegressor()\n",
    "\n",
    "# Hyperparameter tuning using GridSearchCV\n",
    "param_grid = {\n",
    "    'n_estimators': [100, 200],\n",
    "    'max_depth': [3, 6],\n",
    "    'learning_rate': [0.01, 0.1],\n",
    "}\n",
    "grid_search = GridSearchCV(model, param_grid, scoring='neg_mean_squared_error', cv=5)\n",
    "grid_search.fit(X_train, y_train)\n",
    "\n",
    "# Best model from grid search\n",
    "best_model = grid_search.best_estimator_\n",
    "\n",
    "# Evaluate the model\n",
    "y_pred = best_model.predict(X_test)\n",
    "mse = mean_squared_error(y_test, y_pred)\n",
    "\n",
    "print(f\"Mean Squared Error: {mse}\")\n",
    "\n",
    "# Save the best model to the Models directory\n",
    "import joblib\n",
    "joblib.dump(best_model, '../Models/xgboost_model.json')  # Saving the model in the Models directory\n",
    "\n",
    "# Visualize predictions vs actual\n",
    "plt.scatter(y_test, y_pred)\n",
    "plt.xlabel('True Values')\n",
    "plt.ylabel('Predictions')\n",
    "plt.title('True Values vs Predictions')\n",
    "plt.show()\n"
   ]
  }
 ],
 "metadata": {
  "language_info": {
   "name": "python"
  }
 },
 "nbformat": 4,
 "nbformat_minor": 2
}
